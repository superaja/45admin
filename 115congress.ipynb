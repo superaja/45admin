{
 "cells": [
  {
   "cell_type": "code",
   "execution_count": 2,
   "metadata": {
    "collapsed": true
   },
   "outputs": [],
   "source": [
    "import json as js\n",
    "import pandas as pd\n",
    "from pandas.io.json import json_normalize"
   ]
  },
  {
   "cell_type": "code",
   "execution_count": 3,
   "metadata": {
    "collapsed": false
   },
   "outputs": [],
   "source": [
    "# script to download all the nomination data from prorepublica\n",
    "# create a list. Use list comprehension\n",
    "\n",
    "# Find the roll calls for nominees. \n",
    "\n",
    "import requests\n",
    "header={\"X-API-Key\": \"nPbsYphjkf8RIEQ0EBGHt4YsISgl2bxX2MrmrIOq\"}\n"
   ]
  },
  {
   "cell_type": "code",
   "execution_count": 4,
   "metadata": {
    "collapsed": false
   },
   "outputs": [
    {
     "name": "stdout",
     "output_type": "stream",
     "text": [
      "200\n"
     ]
    }
   ],
   "source": [
    "# Get Congress Members\n",
    "url_members = 'https://api.propublica.org/congress/v1/115/house/members.json'\n",
    "mresp = requests.get(url_members,headers=header)\n",
    "print mresp.status_code\n",
    "d = mresp.json()\n",
    "members = d['results'][0]['members']\n",
    "df = json_normalize(members)\n",
    "df.to_csv('./data/115members.csv', encoding='utf-8')"
   ]
  },
  {
   "cell_type": "code",
   "execution_count": 12,
   "metadata": {
    "collapsed": false
   },
   "outputs": [
    {
     "name": "stdout",
     "output_type": "stream",
     "text": [
      "200\n"
     ]
    }
   ],
   "source": [
    "# Get Nomination Data\n",
    "\n",
    "url_nom = 'https://api.propublica.org/congress/v1/115/nominations.json'\n",
    "nresp = requests.get(url_nom,headers=header)\n",
    "print nresp.status_code\n",
    "nom = nresp.json()\n",
    "nom_temp=nom['results'][0]['votes']\n",
    "df = json_normalize(nom_temp)\n",
    "roll_call_list = df.roll_call.unique()\n",
    "df.to_csv('./data/115nom.csv', encoding='utf-8')"
   ]
  },
  {
   "cell_type": "code",
   "execution_count": 16,
   "metadata": {
    "collapsed": false
   },
   "outputs": [
    {
     "name": "stdout",
     "output_type": "stream",
     "text": [
      "200\n",
      "200\n",
      "200\n",
      "200\n",
      "200\n",
      "200\n",
      "200\n",
      "200\n",
      "200\n",
      "200\n",
      "200\n",
      "200\n",
      "200\n",
      "200\n"
     ]
    }
   ],
   "source": [
    "# Get detail Nomination Votes\n",
    "# roll_call_list = 61\n",
    "url_detail_nom_base = 'https://api.propublica.org/congress/v1/115/senate/sessions/1/votes/'\n",
    "for i in roll_call_list:\n",
    "    url_detail_nom = url_detail_nom_base + str(i)+'.json'\n",
    "    detail_nresp = requests.get(url_detail_nom,headers=header)\n",
    "    print detail_nresp.status_code\n",
    "    detail_nom = detail_nresp.json()\n",
    "    temp_nom = detail_nom['results']['votes']['vote']\n",
    "    df = json_normalize(temp_nom, 'positions', ['roll_call'])\n",
    "    file_name = './data/nom'+ str(i) + '.csv'\n",
    "    df.to_csv(file_name, encoding='utf-8')"
   ]
  },
  {
   "cell_type": "code",
   "execution_count": 36,
   "metadata": {
    "collapsed": false
   },
   "outputs": [],
   "source": [
    "#with open('./data/115members.json') as json_data:\n",
    "#    d = js.load(json_data)\n",
    "\n",
    "#with open('./data/115nom.json') as json_data:\n",
    "#    nom = js.load(json_data)\n",
    "    \n",
    "#with open('./data/33nom.json') as json_data:\n",
    "#    nom33 = js.load(json_data)"
   ]
  },
  {
   "cell_type": "code",
   "execution_count": 19,
   "metadata": {
    "collapsed": false
   },
   "outputs": [],
   "source": [
    "def flatten_json(y):\n",
    "    out = {}\n",
    "\n",
    "    def flatten(x, name=''):\n",
    "        if type(x) is dict:\n",
    "            for a in x:\n",
    "                flatten(x[a], name + a + '_')\n",
    "        elif type(x) is list:\n",
    "            i = 0\n",
    "            for a in x:\n",
    "                flatten(a, name + str(i) + '_')\n",
    "                i += 1\n",
    "        else:\n",
    "            out[name[:-1]] = x\n",
    "\n",
    "    flatten(y)\n",
    "    return out"
   ]
  },
  {
   "cell_type": "code",
   "execution_count": null,
   "metadata": {
    "collapsed": true
   },
   "outputs": [],
   "source": []
  }
 ],
 "metadata": {
  "anaconda-cloud": {},
  "kernelspec": {
   "display_name": "Python [conda root]",
   "language": "python",
   "name": "conda-root-py"
  },
  "language_info": {
   "codemirror_mode": {
    "name": "ipython",
    "version": 2
   },
   "file_extension": ".py",
   "mimetype": "text/x-python",
   "name": "python",
   "nbconvert_exporter": "python",
   "pygments_lexer": "ipython2",
   "version": "2.7.12"
  }
 },
 "nbformat": 4,
 "nbformat_minor": 1
}
