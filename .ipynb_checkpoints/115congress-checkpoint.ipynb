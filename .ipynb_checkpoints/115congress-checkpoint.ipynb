{
 "cells": [
  {
   "cell_type": "code",
   "execution_count": 1,
   "metadata": {
    "collapsed": true
   },
   "outputs": [],
   "source": [
    "import json as js\n",
    "import pandas as pd\n",
    "from pandas.io.json import json_normalize"
   ]
  },
  {
   "cell_type": "code",
   "execution_count": 2,
   "metadata": {
    "collapsed": false
   },
   "outputs": [],
   "source": [
    "# script to download all the nomination data from prorepublica\n",
    "# create a list. Use list comprehension\n",
    "\n",
    "# Find the roll calls for nominees. \n",
    "\n",
    "import requests\n",
    "header={\"X-API-Key\": \"nPbsYphjkf8RIEQ0EBGHt4YsISgl2bxX2MrmrIOq\"}\n"
   ]
  },
  {
   "cell_type": "code",
   "execution_count": 3,
   "metadata": {
    "collapsed": false
   },
   "outputs": [
    {
     "name": "stdout",
     "output_type": "stream",
     "text": [
      "200\n"
     ]
    }
   ],
   "source": [
    "# Get Congress Members\n",
    "url_members = 'https://api.propublica.org/congress/v1/115/house/members.json'\n",
    "mresp = requests.get(url_members,headers=header)\n",
    "print mresp.status_code\n",
    "d = mresp.json()\n",
    "members = d['results'][0]['members']\n",
    "df = json_normalize(members)\n",
    "df.to_csv('./data/115members.csv', encoding='utf-8', index=False)"
   ]
  },
  {
   "cell_type": "code",
   "execution_count": 4,
   "metadata": {
    "collapsed": false
   },
   "outputs": [
    {
     "name": "stdout",
     "output_type": "stream",
     "text": [
      "200\n"
     ]
    }
   ],
   "source": [
    "# Get Senate Members\n",
    "url_senate = 'https://api.propublica.org/congress/v1/115/senate/members.json'\n",
    "nresp = requests.get(url_senate,headers=header)\n",
    "print nresp.status_code\n",
    "s = nresp.json()\n",
    "senate = s['results'][0]['members']\n",
    "df = json_normalize(senate)\n",
    "df.to_csv('./data/115senators.csv', encoding='utf-8', index=False)"
   ]
  },
  {
   "cell_type": "code",
   "execution_count": 55,
   "metadata": {
    "collapsed": false
   },
   "outputs": [
    {
     "name": "stdout",
     "output_type": "stream",
     "text": [
      "200\n"
     ]
    }
   ],
   "source": [
    "# Get Nomination Data\n",
    "\n",
    "url_nom = 'https://api.propublica.org/congress/v1/115/nominations.json'\n",
    "nresp = requests.get(url_nom,headers=header)\n",
    "print nresp.status_code\n",
    "nom = nresp.json()\n",
    "nom_temp=nom['results'][0]['votes']\n",
    "df = json_normalize(nom_temp)\n",
    "\n",
    "# Split Description to Name and Position\n",
    "\n",
    "test_re = df.description\n",
    "df['Name'] = test_re.str.split(',').str.get(0)\n",
    "df['Position'] = test_re.str.split('to be').str.get(1)\n",
    "\n",
    "roll_call_list = df.roll_call.unique()\n",
    "df.to_csv('./data/115nom.csv', encoding='utf-8', index=False)"
   ]
  },
  {
   "cell_type": "code",
   "execution_count": 6,
   "metadata": {
    "collapsed": false
   },
   "outputs": [
    {
     "name": "stdout",
     "output_type": "stream",
     "text": [
      "200\n",
      "200\n",
      "200\n",
      "200\n",
      "200\n",
      "200\n",
      "200\n",
      "200\n",
      "200\n",
      "200\n",
      "200\n",
      "200\n",
      "200\n",
      "200\n",
      "200\n",
      "200\n",
      "200\n",
      "200\n",
      "200\n",
      "200\n",
      "200\n",
      "200\n",
      "200\n",
      "200\n",
      "200\n",
      "200\n",
      "200\n",
      "200\n",
      "200\n"
     ]
    }
   ],
   "source": [
    "# Get detail Nomination Votes\n",
    "# roll_call_list = 61\n",
    "url_detail_nom_base = 'https://api.propublica.org/congress/v1/115/senate/sessions/1/votes/'\n",
    "for i in roll_call_list:\n",
    "    url_detail_nom = url_detail_nom_base + str(i)+'.json'\n",
    "    detail_nresp = requests.get(url_detail_nom,headers=header)\n",
    "    print detail_nresp.status_code\n",
    "    detail_nom = detail_nresp.json()\n",
    "    temp_nom = detail_nom['results']['votes']['vote']\n",
    "    df = json_normalize(temp_nom, 'positions', ['roll_call'])\n",
    "    file_name = './data/nom'+ str(i) + '.csv'\n",
    "    df.to_csv(file_name, encoding='utf-8', index=False)"
   ]
  },
  {
   "cell_type": "code",
   "execution_count": 7,
   "metadata": {
    "collapsed": false
   },
   "outputs": [],
   "source": [
    "# DATA WRANGLING\n",
    "\n",
    "# combine all individual roll call vote files into 1\n",
    "fout=open(\"./data/nom.csv\",\"a\")\n",
    "# first file:\n",
    "for line in open(\"./data/nom\" + str(roll_call_list[0])+ \".csv\"):\n",
    "    fout.write(line)\n",
    "# now the rest:    \n",
    "for i in roll_call_list[1:]:\n",
    "    f = open(\"./data/nom\"+str(i)+\".csv\")\n",
    "    f.next() # skip the header\n",
    "    for line in f:\n",
    "         fout.write(line)\n",
    "    f.close() # not really needed\n",
    "fout.close()\n"
   ]
  },
  {
   "cell_type": "code",
   "execution_count": 8,
   "metadata": {
    "collapsed": false
   },
   "outputs": [],
   "source": [
    "# Make a clean dataset\n",
    "temp_df = pd.read_csv('./data/nom.csv')\n",
    "temp_df.drop('dw_nominate', axis=1, inplace=True)\n",
    "#temp_df.drop(temp_df.columns[0], axis=1, inplace=True)\n",
    "temp_df.head()\n",
    "temp_df.to_csv('./data/cnom.csv', index=False)"
   ]
  },
  {
   "cell_type": "code",
   "execution_count": 9,
   "metadata": {
    "collapsed": false
   },
   "outputs": [],
   "source": [
    "# Clean data for Nomination Reference File and Member Reference File\n",
    "\n",
    "temp_df = pd.read_csv('./data/115members.csv')\n",
    "temp_df.drop(['dw_nominate','api_uri', 'facebook_account','google_entity_id', 'ideal_point','rss_url'], axis=1, inplace=True)\n",
    "temp_df.rename(columns={'id': 'member_id'}, inplace=True)\n",
    "temp_df.head()\n",
    "temp_df.to_csv('./data/c115members.csv', index=False)"
   ]
  },
  {
   "cell_type": "code",
   "execution_count": 10,
   "metadata": {
    "collapsed": true
   },
   "outputs": [],
   "source": [
    "# Clean data for Senator Reference File\n",
    "\n",
    "temp_df = pd.read_csv('./data/115senators.csv')\n",
    "temp_df.drop(['dw_nominate','api_uri', 'facebook_account','google_entity_id', 'ideal_point','rss_url'], axis=1, inplace=True)\n",
    "temp_df.rename(columns={'id': 'member_id'}, inplace=True)\n",
    "temp_df.head()\n",
    "temp_df.to_csv('./data/c115senators.csv', index=False)"
   ]
  },
  {
   "cell_type": "code",
   "execution_count": 11,
   "metadata": {
    "collapsed": false
   },
   "outputs": [],
   "source": [
    "def flatten_json(y):\n",
    "    out = {}\n",
    "\n",
    "    def flatten(x, name=''):\n",
    "        if type(x) is dict:\n",
    "            for a in x:\n",
    "                flatten(x[a], name + a + '_')\n",
    "        elif type(x) is list:\n",
    "            i = 0\n",
    "            for a in x:\n",
    "                flatten(a, name + str(i) + '_')\n",
    "                i += 1\n",
    "        else:\n",
    "            out[name[:-1]] = x\n",
    "\n",
    "    flatten(y)\n",
    "    return out"
   ]
  },
  {
   "cell_type": "code",
   "execution_count": 12,
   "metadata": {
    "collapsed": false
   },
   "outputs": [],
   "source": [
    "nom = pd.read_csv('./data/cnom.csv')\n",
    "mem115 = pd.read_csv('./data/c115members.csv')"
   ]
  },
  {
   "cell_type": "code",
   "execution_count": 13,
   "metadata": {
    "collapsed": false
   },
   "outputs": [
    {
     "data": {
      "text/plain": [
       "0      A000055\n",
       "1      A000367\n",
       "2      A000369\n",
       "3      A000370\n",
       "4      A000371\n",
       "5      A000372\n",
       "6      A000374\n",
       "7      A000375\n",
       "8      B000213\n",
       "9      B000287\n",
       "10     B000490\n",
       "11     B000574\n",
       "12     B000755\n",
       "13     B001227\n",
       "14     B001243\n",
       "15     B001245\n",
       "16     B001248\n",
       "17     B001250\n",
       "18     B001251\n",
       "19     B001257\n",
       "20     B001260\n",
       "21     B001269\n",
       "22     B001270\n",
       "23     B001273\n",
       "24     B001274\n",
       "25     B001275\n",
       "26     B001278\n",
       "27     B001281\n",
       "28     B001282\n",
       "29     B001283\n",
       "        ...   \n",
       "412    V000131\n",
       "413    V000132\n",
       "414    W000187\n",
       "415    W000791\n",
       "416    W000795\n",
       "417    W000797\n",
       "418    W000798\n",
       "419    W000799\n",
       "420    W000800\n",
       "421    W000804\n",
       "422    W000806\n",
       "423    W000808\n",
       "424    W000809\n",
       "425    W000810\n",
       "426    W000812\n",
       "427    W000813\n",
       "428    W000814\n",
       "429    W000815\n",
       "430    W000816\n",
       "431    W000819\n",
       "432    W000820\n",
       "433    W000821\n",
       "434    W000822\n",
       "435    Y000033\n",
       "436    Y000062\n",
       "437    Y000063\n",
       "438    Y000065\n",
       "439    Y000066\n",
       "440    Z000017\n",
       "441    Z000018\n",
       "Name: member_id, dtype: object"
      ]
     },
     "execution_count": 13,
     "metadata": {},
     "output_type": "execute_result"
    }
   ],
   "source": [
    "#nom['member_id']\n",
    "mem115['member_id']"
   ]
  },
  {
   "cell_type": "code",
   "execution_count": null,
   "metadata": {
    "collapsed": true
   },
   "outputs": [],
   "source": []
  }
 ],
 "metadata": {
  "anaconda-cloud": {},
  "kernelspec": {
   "display_name": "Python [conda root]",
   "language": "python",
   "name": "conda-root-py"
  },
  "language_info": {
   "codemirror_mode": {
    "name": "ipython",
    "version": 2
   },
   "file_extension": ".py",
   "mimetype": "text/x-python",
   "name": "python",
   "nbconvert_exporter": "python",
   "pygments_lexer": "ipython2",
   "version": "2.7.13"
  }
 },
 "nbformat": 4,
 "nbformat_minor": 1
}
