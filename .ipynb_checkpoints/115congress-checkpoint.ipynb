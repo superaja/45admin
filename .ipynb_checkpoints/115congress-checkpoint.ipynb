{
 "cells": [
  {
   "cell_type": "code",
   "execution_count": 1,
   "metadata": {
    "collapsed": true
   },
   "outputs": [],
   "source": [
    "import json as js\n",
    "import pandas as pd\n",
    "from pandas.io.json import json_normalize"
   ]
  },
  {
   "cell_type": "code",
   "execution_count": 2,
   "metadata": {
    "collapsed": false
   },
   "outputs": [],
   "source": [
    "# script to download all the nomination data from prorepublica\n",
    "# create a list. Use list comprehension\n",
    "\n",
    "# Find the roll calls for nominees. \n",
    "\n",
    "import requests\n",
    "header={\"X-API-Key\": \"nPbsYphjkf8RIEQ0EBGHt4YsISgl2bxX2MrmrIOq\"}\n"
   ]
  },
  {
   "cell_type": "code",
   "execution_count": 3,
   "metadata": {
    "collapsed": false
   },
   "outputs": [
    {
     "name": "stdout",
     "output_type": "stream",
     "text": [
      "200\n"
     ]
    }
   ],
   "source": [
    "# Get Congress Members\n",
    "url_members = 'https://api.propublica.org/congress/v1/115/house/members.json'\n",
    "mresp = requests.get(url_members,headers=header)\n",
    "print mresp.status_code\n",
    "d = mresp.json()\n",
    "members = d['results'][0]['members']\n",
    "df = json_normalize(members)\n",
    "df.to_csv('./data/115members.csv', encoding='utf-8', index=False)"
   ]
  },
  {
   "cell_type": "code",
   "execution_count": 4,
   "metadata": {
    "collapsed": false
   },
   "outputs": [
    {
     "name": "stdout",
     "output_type": "stream",
     "text": [
      "200\n"
     ]
    }
   ],
   "source": [
    "# Get Senate Members\n",
    "url_senate = 'https://api.propublica.org/congress/v1/115/senate/members.json'\n",
    "nresp = requests.get(url_senate,headers=header)\n",
    "print nresp.status_code\n",
    "s = nresp.json()\n",
    "senate = s['results'][0]['members']\n",
    "df = json_normalize(senate)\n",
    "df.to_csv('./data/115senators.csv', encoding='utf-8', index=False)"
   ]
  },
  {
   "cell_type": "code",
   "execution_count": 5,
   "metadata": {
    "collapsed": false
   },
   "outputs": [
    {
     "name": "stdout",
     "output_type": "stream",
     "text": [
      "200\n"
     ]
    }
   ],
   "source": [
    "# Get Nomination Data\n",
    "\n",
    "url_nom = 'https://api.propublica.org/congress/v1/115/nominations.json'\n",
    "nresp = requests.get(url_nom,headers=header)\n",
    "print nresp.status_code\n",
    "nom = nresp.json()\n",
    "nom_temp=nom['results'][0]['votes']\n",
    "df = json_normalize(nom_temp)\n",
    "roll_call_list = df.roll_call.unique()\n",
    "df.to_csv('./data/115nom.csv', encoding='utf-8', index=False)"
   ]
  },
  {
   "cell_type": "code",
   "execution_count": 12,
   "metadata": {
    "collapsed": false
   },
   "outputs": [
    {
     "name": "stdout",
     "output_type": "stream",
     "text": [
      "200\n",
      "200\n",
      "200\n",
      "200\n",
      "200\n",
      "200\n",
      "200\n",
      "200\n",
      "200\n",
      "200\n",
      "200\n",
      "200\n",
      "200\n",
      "200\n",
      "200\n",
      "200\n",
      "200\n",
      "200\n",
      "200\n",
      "200\n",
      "200\n",
      "200\n"
     ]
    }
   ],
   "source": [
    "# Get detail Nomination Votes\n",
    "# roll_call_list = 61\n",
    "url_detail_nom_base = 'https://api.propublica.org/congress/v1/115/senate/sessions/1/votes/'\n",
    "for i in roll_call_list:\n",
    "    url_detail_nom = url_detail_nom_base + str(i)+'.json'\n",
    "    detail_nresp = requests.get(url_detail_nom,headers=header)\n",
    "    print detail_nresp.status_code\n",
    "    detail_nom = detail_nresp.json()\n",
    "    temp_nom = detail_nom['results']['votes']['vote']\n",
    "    df = json_normalize(temp_nom, 'positions', ['roll_call'])\n",
    "    file_name = './data/nom'+ str(i) + '.csv'\n",
    "    df.to_csv(file_name, encoding='utf-8', index=False)"
   ]
  },
  {
   "cell_type": "code",
   "execution_count": 13,
   "metadata": {
    "collapsed": false
   },
   "outputs": [],
   "source": [
    "# DATA WRANGLING\n",
    "\n",
    "# combine all individual roll call vote files into 1\n",
    "fout=open(\"./data/nom.csv\",\"a\")\n",
    "# first file:\n",
    "for line in open(\"./data/nom\" + str(roll_call_list[0])+ \".csv\"):\n",
    "    fout.write(line)\n",
    "# now the rest:    \n",
    "for i in roll_call_list[1:]:\n",
    "    f = open(\"./data/nom\"+str(i)+\".csv\")\n",
    "    f.next() # skip the header\n",
    "    for line in f:\n",
    "         fout.write(line)\n",
    "    f.close() # not really needed\n",
    "fout.close()\n"
   ]
  },
  {
   "cell_type": "code",
   "execution_count": 14,
   "metadata": {
    "collapsed": false
   },
   "outputs": [],
   "source": [
    "# Make a clean dataset\n",
    "temp_df = pd.read_csv('./data/nom.csv')\n",
    "temp_df.drop('dw_nominate', axis=1, inplace=True)\n",
    "#temp_df.drop(temp_df.columns[0], axis=1, inplace=True)\n",
    "temp_df.head()\n",
    "temp_df.to_csv('./data/cnom.csv', index=False)"
   ]
  },
  {
   "cell_type": "code",
   "execution_count": 10,
   "metadata": {
    "collapsed": false
   },
   "outputs": [],
   "source": [
    "# Clean data for Nomination Reference File and Member Reference File\n",
    "\n",
    "temp_df = pd.read_csv('./data/115members.csv')\n",
    "temp_df.drop(['dw_nominate','api_uri', 'facebook_account','google_entity_id', 'ideal_point','rss_url'], axis=1, inplace=True)\n",
    "temp_df.rename(columns={'id': 'member_id'}, inplace=True)\n",
    "temp_df.head()\n",
    "temp_df.to_csv('./data/c115members.csv', index=False)"
   ]
  },
  {
   "cell_type": "code",
   "execution_count": 11,
   "metadata": {
    "collapsed": true
   },
   "outputs": [],
   "source": [
    "# Clean data for Senator Reference File\n",
    "\n",
    "temp_df = pd.read_csv('./data/115senators.csv')\n",
    "temp_df.drop(['dw_nominate','api_uri', 'facebook_account','google_entity_id', 'ideal_point','rss_url'], axis=1, inplace=True)\n",
    "temp_df.rename(columns={'id': 'member_id'}, inplace=True)\n",
    "temp_df.head()\n",
    "temp_df.to_csv('./data/c115senators.csv', index=False)"
   ]
  },
  {
   "cell_type": "code",
   "execution_count": null,
   "metadata": {
    "collapsed": false
   },
   "outputs": [],
   "source": [
    "def flatten_json(y):\n",
    "    out = {}\n",
    "\n",
    "    def flatten(x, name=''):\n",
    "        if type(x) is dict:\n",
    "            for a in x:\n",
    "                flatten(x[a], name + a + '_')\n",
    "        elif type(x) is list:\n",
    "            i = 0\n",
    "            for a in x:\n",
    "                flatten(a, name + str(i) + '_')\n",
    "                i += 1\n",
    "        else:\n",
    "            out[name[:-1]] = x\n",
    "\n",
    "    flatten(y)\n",
    "    return out"
   ]
  },
  {
   "cell_type": "code",
   "execution_count": null,
   "metadata": {
    "collapsed": false
   },
   "outputs": [],
   "source": [
    "nom = pd.read_csv('./data/cnom.csv')\n",
    "mem115 = pd.read_csv('./data/c115members.csv')"
   ]
  },
  {
   "cell_type": "code",
   "execution_count": null,
   "metadata": {
    "collapsed": false
   },
   "outputs": [],
   "source": [
    "#nom['member_id']\n",
    "mem115['member_id']"
   ]
  },
  {
   "cell_type": "code",
   "execution_count": null,
   "metadata": {
    "collapsed": true
   },
   "outputs": [],
   "source": []
  }
 ],
 "metadata": {
  "anaconda-cloud": {},
  "kernelspec": {
   "display_name": "Python [conda root]",
   "language": "python",
   "name": "conda-root-py"
  },
  "language_info": {
   "codemirror_mode": {
    "name": "ipython",
    "version": 2
   },
   "file_extension": ".py",
   "mimetype": "text/x-python",
   "name": "python",
   "nbconvert_exporter": "python",
   "pygments_lexer": "ipython2",
   "version": "2.7.12"
  }
 },
 "nbformat": 4,
 "nbformat_minor": 1
}
