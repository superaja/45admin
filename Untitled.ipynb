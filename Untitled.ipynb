{
 "cells": [
  {
   "cell_type": "code",
   "execution_count": 2,
   "metadata": {
    "collapsed": false
   },
   "outputs": [],
   "source": [
    "# Imports and utilities\n",
    "import numpy as np\n",
    "from time import time\n",
    "from operator import itemgetter\n",
    "from sklearn import svm, grid_search, datasets\n",
    "from sklearn.ensemble import RandomForestClassifier\n",
    "#from spark_sklearn import GridSearchCV\n",
    "\n",
    "# Utility function to report best scores\n",
    "def report(grid_scores, n_top=3):\n",
    "    top_scores = sorted(grid_scores, key=itemgetter(1), reverse=True)[:n_top]\n",
    "    for i, score in enumerate(top_scores):\n",
    "        print(\"Model with rank: {0}\".format(i + 1))\n",
    "        print(\"Mean validation score: {0:.3f} (std: {1:.3f})\".format(\n",
    "              score.mean_validation_score,\n",
    "              np.std(score.cv_validation_scores)))\n",
    "        print(\"Parameters: {0}\".format(score.parameters))\n",
    "        print(\"\")"
   ]
  },
  {
   "cell_type": "code",
   "execution_count": 5,
   "metadata": {
    "collapsed": true
   },
   "outputs": [],
   "source": [
    "digits = datasets.load_digits()\n",
    "X, y = digits.data, digits.target\n",
    "param_grid = {\"max_depth\": [3, None],\n",
    "              \"max_features\": [1, 3, 10],\n",
    "             # \"min_samples_split\": [1, 3, 10],\n",
    "              \"min_samples_leaf\": [1, 3, 10],\n",
    "              \"bootstrap\": [True, False],\n",
    "              \"criterion\": [\"gini\", \"entropy\"],\n",
    "              \"n_estimators\": [10, 20, 40, 80]}\n",
    "clf = RandomForestClassifier()"
   ]
  },
  {
   "cell_type": "code",
   "execution_count": 6,
   "metadata": {
    "collapsed": false
   },
   "outputs": [
    {
     "name": "stdout",
     "output_type": "stream",
     "text": [
      "GridSearchCV took 179.58 seconds for 288 candidate settings.\n",
      "Model with rank: 1\n",
      "Mean validation score: 0.952 (std: 0.004)\n",
      "Parameters: {'bootstrap': False, 'min_samples_leaf': 1, 'n_estimators': 80, 'criterion': 'gini', 'max_features': 3, 'max_depth': None}\n",
      "\n",
      "Model with rank: 2\n",
      "Mean validation score: 0.947 (std: 0.003)\n",
      "Parameters: {'bootstrap': False, 'min_samples_leaf': 1, 'n_estimators': 80, 'criterion': 'entropy', 'max_features': 3, 'max_depth': None}\n",
      "\n",
      "Model with rank: 3\n",
      "Mean validation score: 0.943 (std: 0.009)\n",
      "Parameters: {'bootstrap': False, 'min_samples_leaf': 1, 'n_estimators': 40, 'criterion': 'gini', 'max_features': 3, 'max_depth': None}\n",
      "\n"
     ]
    }
   ],
   "source": [
    "gs = grid_search.GridSearchCV(clf, param_grid=param_grid)\n",
    "start = time()\n",
    "gs.fit(X, y)\n",
    "print(\"GridSearchCV took {:.2f} seconds for {:d} candidate settings.\".format(time() - start, len(gs.grid_scores_)))\n",
    "report(gs.grid_scores_)"
   ]
  },
  {
   "cell_type": "code",
   "execution_count": null,
   "metadata": {
    "collapsed": true
   },
   "outputs": [],
   "source": []
  }
 ],
 "metadata": {
  "kernelspec": {
   "display_name": "Python [default]",
   "language": "python",
   "name": "python2"
  },
  "language_info": {
   "codemirror_mode": {
    "name": "ipython",
    "version": 2
   },
   "file_extension": ".py",
   "mimetype": "text/x-python",
   "name": "python",
   "nbconvert_exporter": "python",
   "pygments_lexer": "ipython2",
   "version": "2.7.13"
  }
 },
 "nbformat": 4,
 "nbformat_minor": 2
}
